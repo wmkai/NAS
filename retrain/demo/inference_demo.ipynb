{
 "cells": [
  {
   "cell_type": "code",
   "execution_count": null,
   "metadata": {},
   "outputs": [
    {
     "name": "stdout",
     "output_type": "stream",
     "text": [
      "mkdir: cannot create directory ‘../checkpoints’: File exists\n",
      "--2020-07-07 08:54:25--  https://open-mmlab.s3.ap-northeast-2.amazonaws.com/mmsegmentation/models/pspnet/pspnet_r50-d8_512x1024_40k_cityscapes/pspnet_r50-d8_512x1024_40k_cityscapes_20200605_003338-2966598c.pth\n",
      "Resolving open-mmlab.s3.ap-northeast-2.amazonaws.com (open-mmlab.s3.ap-northeast-2.amazonaws.com)... 52.219.58.55\n",
      "Connecting to open-mmlab.s3.ap-northeast-2.amazonaws.com (open-mmlab.s3.ap-northeast-2.amazonaws.com)|52.219.58.55|:443... connected.\n",
      "HTTP request sent, awaiting response... 200 OK\n",
      "Length: 196205945 (187M) [application/x-www-form-urlencoded]\n",
      "Saving to: ‘../checkpoints/pspnet_r50-d8_512x1024_40k_cityscapes_20200605_003338-2966598c.pth.1’\n",
      "\n",
      "pspnet_r50-d8_512x1 100%[===================>] 187.12M  16.5MB/s    in 13s     \n",
      "\n",
      "2020-07-07 08:54:38 (14.8 MB/s) - ‘../checkpoints/pspnet_r50-d8_512x1024_40k_cityscapes_20200605_003338-2966598c.pth.1’ saved [196205945/196205945]\n",
      "\n"
     ]
    }
   ],
   "source": [
    "!mkdir ../checkpoints\n",
    "!wget https://openmmlab.oss-accelerate.aliyuncs.com/mmsegmentation/v0.5/deeplabv3/deeplabv3_r50-d8_512x1024_40k_cityscapes/deeplabv3_r50-d8_512x1024_40k_cityscapes_20200605_022449-acadc2f8.pth -P ../checkpoints"
   ]
  },
  {
   "cell_type": "code",
   "execution_count": 1,
   "metadata": {
    "pycharm": {
     "is_executing": true
    }
   },
   "outputs": [
    {
     "name": "stderr",
     "output_type": "stream",
     "text": [
      "/home/tiger/miniconda3/envs/open-mmlab/lib/python3.10/site-packages/tqdm/auto.py:22: TqdmWarning: IProgress not found. Please update jupyter and ipywidgets. See https://ipywidgets.readthedocs.io/en/stable/user_install.html\n",
      "  from .autonotebook import tqdm as notebook_tqdm\n"
     ]
    }
   ],
   "source": [
    "import sys\n",
    "# print(sys.path)\n",
    "# 添加模块的查找路径，包的查找路径和模块的是一致的\n",
    "sys.path.insert(0, \"../\")\n",
    "from mmseg.apis import init_segmentor, inference_segmentor, show_result_pyplot\n",
    "from mmseg.core.evaluation import get_palette\n",
    "import os\n",
    "import tqdm"
   ]
  },
  {
   "cell_type": "code",
   "execution_count": 2,
   "metadata": {
    "pycharm": {
     "is_executing": true
    }
   },
   "outputs": [],
   "source": [
    "config_file1 = '../local_configs/hess/base/hess_base_ade20k.py'\n",
    "checkpoint_file1 = '../ckpt/HESS/base.pth'\n",
    "\n",
    "config_file2 = '../local_configs/xxx/base/xxx.py'\n",
    "checkpoint_file2 = '../ckpt/xxx/xxx.pth'"
   ]
  },
  {
   "cell_type": "code",
   "execution_count": 3,
   "metadata": {},
   "outputs": [
    {
     "name": "stdout",
     "output_type": "stream",
     "text": [
      "load checkpoint from local path: ../ckpt/HESS/base.pth\n",
      "load checkpoint from local path: ../ckpt/topformer/TopFormer-B_512x512_2x8_160k-38.3.pth\n"
     ]
    }
   ],
   "source": [
    "# build the model from a config file and a checkpoint file\n",
    "model1 = init_segmentor(config_file1, checkpoint_file1, device='cuda:0')\n",
    "model2 = init_segmentor(config_file2, checkpoint_file2, device='cuda:1')"
   ]
  },
  {
   "cell_type": "code",
   "execution_count": 6,
   "metadata": {},
   "outputs": [
    {
     "name": "stderr",
     "output_type": "stream",
     "text": [
      "100%|██████████| 2000/2000 [08:41<00:00,  3.84it/s]\n"
     ]
    }
   ],
   "source": [
    "# test a single image\n",
    "img_root = '/opt/tiger/ade/ADEChallengeData2016/images/validation'\n",
    "out_root = '/home/tiger/code/TopFormer/inference_results'\n",
    "for filename in tqdm.tqdm(os.listdir(img_root)):\n",
    "    img = os.path.join(img_root, filename)\n",
    "    result1 = inference_segmentor(model1, img)\n",
    "    result2 = inference_segmentor(model2, img)\n",
    "    out_file1 = os.path.join(out_root, str(filename)[:-4] + '_HESS.jpg')\n",
    "    model1.show_result(img, result1, out_file=out_file1, opacity=0.5)\n",
    "    out_file2 = os.path.join(out_root, str(filename)[:-4] + '_topformer.jpg')\n",
    "    model2.show_result(img, result2, out_file=out_file2, opacity=0.5)\n",
    "\n",
    "# for filename in tqdm.tqdm(os.listdir(img_root)):\n",
    "#     img = os.path.join(img, filename)\n",
    "#     result2 = inference_segmentor(model2, img)\n",
    "#     out_file = os.path.join(out_root, 'topformer', filename)\n",
    "#     model2.show_result(img, result2, out_file=out_file, opacity=0.5)\n",
    "\n",
    "# img = '/opt/tiger/ade/ADEChallengeData2016/images/validation/ADE_val_00000001.jpg'\n",
    "# result1 = inference_segmentor(model1, img)\n",
    "# result2 = inference_segmentor(model2, img)\n",
    "# show the results\n",
    "# show_result_pyplot(model1, img, result1, get_palette('ade'))\n",
    "# show_result_pyplot(model2, img, result2, get_palette('ade'))"
   ]
  }
 ],
 "metadata": {
  "kernelspec": {
   "display_name": "Python 3.10.6 ('open-mmlab')",
   "language": "python",
   "name": "python3"
  },
  "language_info": {
   "codemirror_mode": {
    "name": "ipython",
    "version": 3
   },
   "file_extension": ".py",
   "mimetype": "text/x-python",
   "name": "python",
   "nbconvert_exporter": "python",
   "pygments_lexer": "ipython3",
   "version": "3.10.6"
  },
  "pycharm": {
   "stem_cell": {
    "cell_type": "raw",
    "metadata": {
     "collapsed": false
    },
    "source": []
   }
  },
  "vscode": {
   "interpreter": {
    "hash": "2d8a85b8fb86532b3776ab435fa0edebaa28582f4bf76003a4b7ecffb978c783"
   }
  }
 },
 "nbformat": 4,
 "nbformat_minor": 4
}
